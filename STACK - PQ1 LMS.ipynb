{
 "cells": [
  {
   "cell_type": "code",
   "execution_count": null,
   "id": "0fdc134b-fe13-40f3-9129-9c3d6133d024",
   "metadata": {},
   "outputs": [],
   "source": [
    "#1)Reverse a String using a Stack:\n",
    "# Implement a stack using a list and write a function to reverse a given string. Push\n",
    "#each character of the string onto the stack, then pop each character off the stack to\n",
    "#reverse the string"
   ]
  },
  {
   "cell_type": "code",
   "execution_count": 2,
   "id": "171ff1df-380b-44cf-9063-1773b8cd6ada",
   "metadata": {},
   "outputs": [
    {
     "name": "stdout",
     "output_type": "stream",
     "text": [
      "Original String: hello\n",
      "Reversed String: olleh\n"
     ]
    }
   ],
   "source": [
    "class Stack:\n",
    "    def __init__(self):\n",
    "        self.stack = []\n",
    "    \n",
    "    def push(self, item):\n",
    "        self.stack.append(item)\n",
    "    \n",
    "    def pop(self):\n",
    "        if not self.is_empty():\n",
    "            return self.stack.pop()\n",
    "        return None\n",
    "    \n",
    "    def is_empty(self):\n",
    "        return len(self.stack) == 0\n",
    "\n",
    "def reverse_string(s):\n",
    "    stack = Stack()\n",
    "    \n",
    "    for char in s:\n",
    "        stack.push(char)\n",
    "    \n",
    "    reversed_str = \"\"\n",
    "    \n",
    "\n",
    "    while not stack.is_empty():\n",
    "        reversed_str += stack.pop()\n",
    "    \n",
    "    return reversed_str\n",
    "\n",
    "input_str = \"hello\"\n",
    "print(\"Original String:\", input_str)\n",
    "print(\"Reversed String:\", reverse_string(input_str))"
   ]
  },
  {
   "cell_type": "code",
   "execution_count": 4,
   "id": "492ddcb8-9c90-48e8-b18b-1b793c74608e",
   "metadata": {},
   "outputs": [],
   "source": [
    "#2) Stack Sort Algorithm:\n",
    "#• Implement a stack using a list and sort the elements using only stack operations\n",
    "#(i.e., push, pop). You are not allowed to use any other data structures like lists,\n",
    "#queues, or arrays to store intermediate elements"
   ]
  },
  {
   "cell_type": "code",
   "execution_count": 5,
   "id": "e05d1f2a-d438-465a-8edd-7d5b471338e4",
   "metadata": {},
   "outputs": [
    {
     "name": "stdout",
     "output_type": "stream",
     "text": [
      "Original Stack: [3, 1, 4, 2, 5]\n",
      "Sorted Stack: [1, 2, 3, 4, 5]\n"
     ]
    }
   ],
   "source": [
    "class Stack:\n",
    "    def __init__(self):\n",
    "        self.stack = []\n",
    "    \n",
    "    def push(self, item):\n",
    "        self.stack.append(item)\n",
    "    \n",
    "    def pop(self):\n",
    "        if not self.is_empty():\n",
    "            return self.stack.pop()\n",
    "        return None\n",
    "    \n",
    "    def is_empty(self):\n",
    "        return len(self.stack) == 0\n",
    "    \n",
    "    def peek(self):\n",
    "        if not self.is_empty():\n",
    "            return self.stack[-1]\n",
    "        return None\n",
    "\n",
    "def sorted_insert(stack, element):\n",
    "    if stack.is_empty() or element > stack.peek():\n",
    "        stack.push(element)\n",
    "    else:\n",
    "        temp = stack.pop()\n",
    "        sorted_insert(stack, element)\n",
    "        stack.push(temp)\n",
    "\n",
    "def sort_stack(stack):\n",
    "    if not stack.is_empty():\n",
    "        temp = stack.pop()\n",
    "        sort_stack(stack)\n",
    "        sorted_insert(stack, temp)\n",
    "\n",
    "# Example usage\n",
    "stack = Stack()\n",
    "stack.push(3)\n",
    "stack.push(1)\n",
    "stack.push(4)\n",
    "stack.push(2)\n",
    "stack.push(5)\n",
    "\n",
    "print(\"Original Stack:\", stack.stack)\n",
    "sort_stack(stack)\n",
    "print(\"Sorted Stack:\", stack.stack)"
   ]
  },
  {
   "cell_type": "code",
   "execution_count": 6,
   "id": "801b69c8-affb-4871-9e75-f9c7debd3992",
   "metadata": {},
   "outputs": [],
   "source": [
    "#3) Implement a Stack for Queue Operations:\n",
    "# Use two stacks (implemented with lists) to simulate the behavior of a queue.\n",
    "#Implement the following operations:\n",
    "# enqueue(x): Add element x to the queue.\n",
    "# dequeue(): Remove and return the element at the front of the queue"
   ]
  },
  {
   "cell_type": "code",
   "execution_count": 7,
   "id": "27e1bd12-42d7-498e-8ffe-06ea54ec4569",
   "metadata": {},
   "outputs": [
    {
     "name": "stdout",
     "output_type": "stream",
     "text": [
      "Dequeued: 1\n",
      "Dequeued: 2\n"
     ]
    }
   ],
   "source": [
    "class Stack:\n",
    "    def __init__(self):\n",
    "        self.stack = []\n",
    "    \n",
    "    def push(self, item):\n",
    "        self.stack.append(item)\n",
    "    \n",
    "    def pop(self):\n",
    "        if not self.is_empty():\n",
    "            return self.stack.pop()\n",
    "        return None\n",
    "    \n",
    "    def is_empty(self):\n",
    "        return len(self.stack) == 0\n",
    "    \n",
    "    def peek(self):\n",
    "        if not self.is_empty():\n",
    "            return self.stack[-1]\n",
    "        return None\n",
    "\n",
    "class QueueUsingStacks:\n",
    "    def __init__(self):\n",
    "        self.stack1 = Stack()\n",
    "        self.stack2 = Stack()\n",
    "    \n",
    "    def enqueue(self, item):\n",
    "        self.stack1.push(item)\n",
    "    \n",
    "    def dequeue(self):\n",
    "        if self.stack2.is_empty():\n",
    "            while not self.stack1.is_empty():\n",
    "                self.stack2.push(self.stack1.pop())\n",
    "        return self.stack2.pop()\n",
    "\n",
    "queue = QueueUsingStacks()\n",
    "queue.enqueue(1)\n",
    "queue.enqueue(2)\n",
    "queue.enqueue(3)\n",
    "print(\"Dequeued:\", queue.dequeue())  \n",
    "queue.enqueue(4)\n",
    "print(\"Dequeued:\", queue.dequeue())  "
   ]
  },
  {
   "cell_type": "code",
   "execution_count": 8,
   "id": "e296f3bd-8a8b-46d2-8633-d1fe46720080",
   "metadata": {},
   "outputs": [],
   "source": [
    "#4) Undo/Redo Operation with Stack:\n",
    "# Implement an undo/redo system using two stacks. One stack will hold the history\n",
    "#of actions (for undo), and another stack will hold the actions that were undone (for\n",
    "#redo). The stack should be able to support undo() and redo() operations"
   ]
  },
  {
   "cell_type": "code",
   "execution_count": 9,
   "id": "665bc5dd-7c6a-4000-abed-9c7e9a6eebd4",
   "metadata": {},
   "outputs": [
    {
     "name": "stdout",
     "output_type": "stream",
     "text": [
      "Undo: Action 3\n",
      "Undo: Action 2\n",
      "Redo: Action 2\n"
     ]
    }
   ],
   "source": [
    "class Stack:\n",
    "    def __init__(self):\n",
    "        self.stack = []\n",
    "    \n",
    "    def push(self, item):\n",
    "        self.stack.append(item)\n",
    "    \n",
    "    def pop(self):\n",
    "        if not self.is_empty():\n",
    "            return self.stack.pop()\n",
    "        return None\n",
    "    \n",
    "    def is_empty(self):\n",
    "        return len(self.stack) == 0\n",
    "    \n",
    "    def peek(self):\n",
    "        if not self.is_empty():\n",
    "            return self.stack[-1]\n",
    "        return None\n",
    "\n",
    "class UndoRedo:\n",
    "    def __init__(self):\n",
    "        self.undo_stack = Stack()\n",
    "        self.redo_stack = Stack()\n",
    "    \n",
    "    def perform_action(self, action):\n",
    "        self.undo_stack.push(action)\n",
    "        self.redo_stack = Stack() \n",
    "    \n",
    "    def undo(self):\n",
    "        if not self.undo_stack.is_empty():\n",
    "            action = self.undo_stack.pop()\n",
    "            self.redo_stack.push(action)\n",
    "            return action\n",
    "        return None\n",
    "    \n",
    "    def redo(self):\n",
    "        if not self.redo_stack.is_empty():\n",
    "            action = self.redo_stack.pop()\n",
    "            self.undo_stack.push(action)\n",
    "            return action\n",
    "        return None\n",
    "\n",
    "# Example usage\n",
    "undo_redo = UndoRedo()\n",
    "undo_redo.perform_action(\"Action 1\")\n",
    "undo_redo.perform_action(\"Action 2\")\n",
    "undo_redo.perform_action(\"Action 3\")\n",
    "print(\"Undo:\", undo_redo.undo()) \n",
    "print(\"Undo:\", undo_redo.undo())  \n",
    "print(\"Redo:\", undo_redo.redo()) "
   ]
  },
  {
   "cell_type": "code",
   "execution_count": 10,
   "id": "b2b03043-6069-44e3-a000-d249a0299eb0",
   "metadata": {},
   "outputs": [],
   "source": [
    "# 5) Implement a Stack that Supports Getting the Middle Element:\n",
    "# Implement a stack using a list that supports the following operations:\n",
    "#o push(x): Push an element onto the stack.\n",
    "#o pop(): Remove the element at the top of the stack.\n",
    "#o get_middle(): Return the middle element of the stack. If the stack has an even\n",
    "#number of elements, return the lower of the two middle elements"
   ]
  },
  {
   "cell_type": "code",
   "execution_count": 11,
   "id": "c3144bef-8fa5-4aff-921a-ea8ef155da3e",
   "metadata": {},
   "outputs": [
    {
     "name": "stdout",
     "output_type": "stream",
     "text": [
      "Middle Element: 3\n",
      "Middle Element after pop: 2\n"
     ]
    }
   ],
   "source": [
    "class Stack:\n",
    "    def __init__(self):\n",
    "        self.stack = []\n",
    "    \n",
    "    def push(self, item):\n",
    "        self.stack.append(item)\n",
    "    \n",
    "    def pop(self):\n",
    "        if not self.is_empty():\n",
    "            return self.stack.pop()\n",
    "        return None\n",
    "    \n",
    "    def is_empty(self):\n",
    "        return len(self.stack) == 0\n",
    "    \n",
    "    def peek(self):\n",
    "        if not self.is_empty():\n",
    "            return self.stack[-1]\n",
    "        return None\n",
    "    \n",
    "    def get_middle(self):\n",
    "        if not self.is_empty():\n",
    "            mid_index = (len(self.stack) - 1) // 2\n",
    "            return self.stack[mid_index]\n",
    "        return None\n",
    "\n",
    "# Example usage\n",
    "stack = Stack()\n",
    "stack.push(1)\n",
    "stack.push(2)\n",
    "stack.push(3)\n",
    "stack.push(4)\n",
    "stack.push(5)\n",
    "print(\"Middle Element:\", stack.get_middle())\n",
    "stack.pop()\n",
    "print(\"Middle Element after pop:\", stack.get_middle())  "
   ]
  },
  {
   "cell_type": "code",
   "execution_count": 12,
   "id": "a71f491b-371c-4752-b27d-65dc25f32ac9",
   "metadata": {},
   "outputs": [],
   "source": [
    "# 6) Remove Duplicates from a Stack:\n",
    "#Implement a function that removes all duplicate elements from a stack. The stack\n",
    "#is represented as a list, and the function should ensure the stack contains only unique\n",
    "#elements in the order they first appeared"
   ]
  },
  {
   "cell_type": "code",
   "execution_count": 13,
   "id": "d3c56a83-d83c-4581-93c1-a34b0c12a869",
   "metadata": {},
   "outputs": [
    {
     "name": "stdout",
     "output_type": "stream",
     "text": [
      "Stack before removing duplicates: [1, 2, 3, 2, 4, 3, 5]\n",
      "Stack after removing duplicates: [1, 2, 4, 3, 5]\n"
     ]
    }
   ],
   "source": [
    "class Stack:\n",
    "    def __init__(self):\n",
    "        self.stack = []\n",
    "    \n",
    "    def push(self, item):\n",
    "        self.stack.append(item)\n",
    "    \n",
    "    def pop(self):\n",
    "        if not self.is_empty():\n",
    "            return self.stack.pop()\n",
    "        return None\n",
    "    \n",
    "    def is_empty(self):\n",
    "        return len(self.stack) == 0\n",
    "    \n",
    "    def peek(self):\n",
    "        if not self.is_empty():\n",
    "            return self.stack[-1]\n",
    "        return None\n",
    "    \n",
    "    def get_middle(self):\n",
    "        if not self.is_empty():\n",
    "            mid_index = (len(self.stack) - 1) // 2\n",
    "            return self.stack[mid_index]\n",
    "        return None\n",
    "    \n",
    "    def remove_duplicates(self):\n",
    "        unique_elements = set()\n",
    "        temp_stack = []\n",
    "        \n",
    "        while not self.is_empty():\n",
    "            item = self.pop()\n",
    "            if item not in unique_elements:\n",
    "                unique_elements.add(item)\n",
    "                temp_stack.append(item)\n",
    "        \n",
    "        while temp_stack:\n",
    "            self.push(temp_stack.pop())\n",
    "\n",
    "stack = Stack()\n",
    "stack.push(1)\n",
    "stack.push(2)\n",
    "stack.push(3)\n",
    "stack.push(2)\n",
    "stack.push(4)\n",
    "stack.push(3)\n",
    "stack.push(5)\n",
    "print(\"Stack before removing duplicates:\", stack.stack)\n",
    "stack.remove_duplicates()\n",
    "print(\"Stack after removing duplicates:\", stack.stack)"
   ]
  },
  {
   "cell_type": "code",
   "execution_count": 14,
   "id": "113494fc-4ce5-4f13-922b-42d81f43e8e4",
   "metadata": {},
   "outputs": [],
   "source": [
    "# 7) Implement Stack with Two Queues:\n",
    "# Using two queues (represented by lists), implement a stack. Implement the\n",
    "#following stack operations:\n",
    "#o push(x): Add element x to the stack.\n",
    "#o pop(): Remove and return the top element from the stack.\n",
    "#o peek(): Return the top element without removing it.\n",
    "#o is_empty(): Return whether the stack is empty."
   ]
  },
  {
   "cell_type": "code",
   "execution_count": 15,
   "id": "e43086c4-e47b-426e-ad24-a1b607462b84",
   "metadata": {},
   "outputs": [
    {
     "name": "stdout",
     "output_type": "stream",
     "text": [
      "Top Element: 3\n",
      "Popped Element: 3\n",
      "Stack is empty: False\n"
     ]
    }
   ],
   "source": [
    "from collections import deque\n",
    "\n",
    "class StackUsingQueues:\n",
    "    def __init__(self):\n",
    "        self.queue1 = deque()\n",
    "        self.queue2 = deque()\n",
    "    \n",
    "    def push(self, item):\n",
    "        self.queue1.append(item)\n",
    "    \n",
    "    def pop(self):\n",
    "        if self.is_empty():\n",
    "            return None\n",
    "        while len(self.queue1) > 1:\n",
    "            self.queue2.append(self.queue1.popleft())\n",
    "        popped_item = self.queue1.popleft()\n",
    "        self.queue1, self.queue2 = self.queue2, self.queue1  # Swap queues\n",
    "        return popped_item\n",
    "    \n",
    "    def peek(self):\n",
    "        if self.is_empty():\n",
    "            return None\n",
    "        while len(self.queue1) > 1:\n",
    "            self.queue2.append(self.queue1.popleft())\n",
    "        top_item = self.queue1[0]\n",
    "        self.queue2.append(self.queue1.popleft())\n",
    "        self.queue1, self.queue2 = self.queue2, self.queue1  # Swap queues\n",
    "        return top_item\n",
    "    \n",
    "    def is_empty(self):\n",
    "        return len(self.queue1) == 0\n",
    "\n",
    "\n",
    "stack = StackUsingQueues()\n",
    "stack.push(1)\n",
    "stack.push(2)\n",
    "stack.push(3)\n",
    "print(\"Top Element:\", stack.peek())  \n",
    "print(\"Popped Element:\", stack.pop()) \n",
    "print(\"Stack is empty:\", stack.is_empty())  \n"
   ]
  },
  {
   "cell_type": "code",
   "execution_count": 16,
   "id": "6306f27b-b539-4c5f-90d6-510b460f84f9",
   "metadata": {},
   "outputs": [],
   "source": [
    "# 8) Check if a Stack is Palindrome:\n",
    "# Implement a stack using a list and write a function to check whether the elements\n",
    "#of a stack form a palindrome (i.e., the stack is the same when reversed)"
   ]
  },
  {
   "cell_type": "code",
   "execution_count": 17,
   "id": "63c179ec-0278-4c1e-a334-ba8b55c614b5",
   "metadata": {},
   "outputs": [
    {
     "name": "stdout",
     "output_type": "stream",
     "text": [
      "Stack is palindrome: True\n",
      "Stack is palindrome: False\n"
     ]
    }
   ],
   "source": [
    "class Stack:\n",
    "    def __init__(self):\n",
    "        self.stack = []\n",
    "    \n",
    "    def push(self, item):\n",
    "        self.stack.append(item)\n",
    "    \n",
    "    def pop(self):\n",
    "        if not self.is_empty():\n",
    "            return self.stack.pop()\n",
    "        return None\n",
    "    \n",
    "    def is_empty(self):\n",
    "        return len(self.stack) == 0\n",
    "    \n",
    "    def peek(self):\n",
    "        if not self.is_empty():\n",
    "            return self.stack[-1]\n",
    "        return None\n",
    "    \n",
    "    def is_palindrome(self):\n",
    "        return self.stack == self.stack[::-1]\n",
    "\n",
    "# Example usage\n",
    "stack = Stack()\n",
    "stack.push(1)\n",
    "stack.push(2)\n",
    "stack.push(3)\n",
    "stack.push(2)\n",
    "stack.push(1)\n",
    "print(\"Stack is palindrome:\", stack.is_palindrome()) \n",
    "\n",
    "stack.push(4)\n",
    "print(\"Stack is palindrome:\", stack.is_palindrome())  \n"
   ]
  },
  {
   "cell_type": "code",
   "execution_count": 18,
   "id": "5727f753-4aec-4093-aafc-c889ec00071b",
   "metadata": {},
   "outputs": [],
   "source": [
    "# 9) Next Greater Element using Stack:\n",
    "# Given a list of numbers, implement a stack to find the next greater element for each\n",
    "#element in the list. For each element, find the nearest greater element that appears\n",
    "#later in the list. If no greater element exists, return -1."
   ]
  },
  {
   "cell_type": "code",
   "execution_count": 19,
   "id": "e2c3e3f3-58d5-4942-bbb3-94c128e3bac0",
   "metadata": {},
   "outputs": [
    {
     "name": "stdout",
     "output_type": "stream",
     "text": [
      "Next Greater Elements: [5, 10, 10, -1, -1]\n"
     ]
    }
   ],
   "source": [
    "class Stack:\n",
    "    def __init__(self):\n",
    "        self.stack = []\n",
    "    \n",
    "    def push(self, item):\n",
    "        self.stack.append(item)\n",
    "    \n",
    "    def pop(self):\n",
    "        if not self.is_empty():\n",
    "            return self.stack.pop()\n",
    "        return None\n",
    "    \n",
    "    def is_empty(self):\n",
    "        return len(self.stack) == 0\n",
    "    \n",
    "    def peek(self):\n",
    "        if not self.is_empty():\n",
    "            return self.stack[-1]\n",
    "        return None\n",
    "\n",
    "def next_greater_element(arr):\n",
    "    stack = Stack()\n",
    "    result = [-1] * len(arr)\n",
    "    \n",
    "    for i in range(len(arr) - 1, -1, -1):\n",
    "        while not stack.is_empty() and stack.peek() <= arr[i]:\n",
    "            stack.pop()\n",
    "        if not stack.is_empty():\n",
    "            result[i] = stack.peek()\n",
    "        stack.push(arr[i])\n",
    "    \n",
    "    return result\n",
    "\n",
    "arr = [4, 5, 2, 10, 8]\n",
    "print(\"Next Greater Elements:\", next_greater_element(arr))  \n"
   ]
  },
  {
   "cell_type": "code",
   "execution_count": 20,
   "id": "b70f8add-3b9c-475a-a009-ab549e903301",
   "metadata": {},
   "outputs": [],
   "source": [
    "# 10) Reverse a Queue using a Stack:\n",
    "#Given a queue, implement a stack to reverse the queue using only stack operations\n",
    "#(push, pop). You cannot use any other additional data structures for storing\n",
    "#intermediate elements."
   ]
  },
  {
   "cell_type": "code",
   "execution_count": 21,
   "id": "a0540690-c29a-46a4-a138-edcc5a5586ed",
   "metadata": {},
   "outputs": [
    {
     "name": "stdout",
     "output_type": "stream",
     "text": [
      "Original Queue: [1, 2, 3, 4, 5]\n",
      "Reversed Queue: [5, 4, 3, 2, 1]\n"
     ]
    }
   ],
   "source": [
    "class Stack:\n",
    "    def __init__(self):\n",
    "        self.stack = []\n",
    "    \n",
    "    def push(self, item):\n",
    "        self.stack.append(item)\n",
    "    \n",
    "    def pop(self):\n",
    "        if not self.is_empty():\n",
    "            return self.stack.pop()\n",
    "        return None\n",
    "    \n",
    "    def is_empty(self):\n",
    "        return len(self.stack) == 0\n",
    "    \n",
    "    def peek(self):\n",
    "        if not self.is_empty():\n",
    "            return self.stack[-1]\n",
    "        return None\n",
    "\n",
    "def reverse_queue(queue):\n",
    "    stack = Stack()\n",
    "  \n",
    "    while queue:\n",
    "        stack.push(queue.pop(0))\n",
    "    \n",
    "    while not stack.is_empty():\n",
    "        queue.append(stack.pop())\n",
    "    \n",
    "    return queue\n",
    "\n",
    "queue = [1, 2, 3, 4, 5]\n",
    "print(\"Original Queue:\", queue)\n",
    "reversed_queue = reverse_queue(queue)\n",
    "print(\"Reversed Queue:\", reversed_queue)  "
   ]
  },
  {
   "cell_type": "code",
   "execution_count": 22,
   "id": "22bf9635-89f4-49c3-8d20-cfe4707c27a2",
   "metadata": {},
   "outputs": [],
   "source": [
    "# 11) Remove All Elements Less Than X:\n",
    "# Implement a stack using a list and write a function that removes all elements less\n",
    "#than a given number X from the stack. After removing the elements, return the\n",
    "#modified stack."
   ]
  },
  {
   "cell_type": "code",
   "execution_count": 23,
   "id": "120e789c-59b6-4d49-aa98-236ad96a3b87",
   "metadata": {},
   "outputs": [
    {
     "name": "stdout",
     "output_type": "stream",
     "text": [
      "Original Queue: [1, 2, 3, 4, 5]\n",
      "Reversed Queue: [5, 4, 3, 2, 1]\n",
      "Original Stack: [1, 3, 5, 2, 4]\n",
      "Stack after removing elements less than 3: [3, 5, 4]\n"
     ]
    }
   ],
   "source": [
    "class Stack:\n",
    "    def __init__(self):\n",
    "        self.stack = []\n",
    "    \n",
    "    def push(self, item):\n",
    "        self.stack.append(item)\n",
    "    \n",
    "    def pop(self):\n",
    "        if not self.is_empty():\n",
    "            return self.stack.pop()\n",
    "        return None\n",
    "    \n",
    "    def is_empty(self):\n",
    "        return len(self.stack) == 0\n",
    "    \n",
    "    def peek(self):\n",
    "        if not self.is_empty():\n",
    "            return self.stack[-1]\n",
    "        return None\n",
    "\n",
    "def reverse_queue(queue):\n",
    "    stack = Stack()\n",
    "    \n",
    "   \n",
    "    while queue:\n",
    "        stack.push(queue.pop(0))\n",
    "\n",
    "    while not stack.is_empty():\n",
    "        queue.append(stack.pop())\n",
    "    \n",
    "    return queue\n",
    "\n",
    "def remove_elements_less_than_x(stack, x):\n",
    "    temp_stack = Stack()\n",
    "    \n",
    "    while not stack.is_empty():\n",
    "        item = stack.pop()\n",
    "        if item >= x:\n",
    "            temp_stack.push(item)\n",
    "    \n",
    "    while not temp_stack.is_empty():\n",
    "        stack.push(temp_stack.pop())\n",
    "    \n",
    "    return stack.stack\n",
    "\n",
    "queue = [1, 2, 3, 4, 5]\n",
    "print(\"Original Queue:\", queue)\n",
    "reversed_queue = reverse_queue(queue)\n",
    "print(\"Reversed Queue:\", reversed_queue)  \n",
    "\n",
    "stack = Stack()\n",
    "stack.push(1)\n",
    "stack.push(3)\n",
    "stack.push(5)\n",
    "stack.push(2)\n",
    "stack.push(4)\n",
    "print(\"Original Stack:\", stack.stack)\n",
    "filtered_stack = remove_elements_less_than_x(stack, 3)\n",
    "print(\"Stack after removing elements less than 3:\", filtered_stack)"
   ]
  },
  {
   "cell_type": "code",
   "execution_count": null,
   "id": "09fe4001-88ef-4e4d-9b83-c76dd8928dcc",
   "metadata": {},
   "outputs": [],
   "source": []
  }
 ],
 "metadata": {
  "kernelspec": {
   "display_name": "Python 3 (ipykernel)",
   "language": "python",
   "name": "python3"
  },
  "language_info": {
   "codemirror_mode": {
    "name": "ipython",
    "version": 3
   },
   "file_extension": ".py",
   "mimetype": "text/x-python",
   "name": "python",
   "nbconvert_exporter": "python",
   "pygments_lexer": "ipython3",
   "version": "3.12.7"
  }
 },
 "nbformat": 4,
 "nbformat_minor": 5
}
