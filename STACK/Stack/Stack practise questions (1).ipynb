{
 "cells": [
  {
   "cell_type": "code",
   "execution_count": 2,
   "id": "09147d7f",
   "metadata": {},
   "outputs": [
    {
     "name": "stdout",
     "output_type": "stream",
     "text": [
      "olleh\n"
     ]
    }
   ],
   "source": [
    "#1.Reversing a string\"\n",
    "def reverse_string(s):\n",
    "    stack = list(s)  \n",
    "    reversed_s = \"\"\n",
    "    \n",
    "    while stack:\n",
    "        reversed_s += stack.pop()  \n",
    "    \n",
    "    return reversed_s\n",
    "\n",
    "print(reverse_string(\"hello\")) "
   ]
  },
  {
   "cell_type": "code",
   "execution_count": 3,
   "id": "af371729",
   "metadata": {},
   "outputs": [
    {
     "name": "stdout",
     "output_type": "stream",
     "text": [
      "[4, 3, 2, 1]\n"
     ]
    }
   ],
   "source": [
    "#2.Stack sort algorithm\n",
    "def sort_stack(stack):\n",
    "    temp_stack = []  \n",
    "    while stack:\n",
    "        temp = stack.pop()\n",
    "        while temp_stack and temp_stack[-1] > temp:\n",
    "            stack.append(temp_stack.pop())\n",
    "        temp_stack.append(temp)\n",
    "\n",
    "    while temp_stack:\n",
    "        stack.append(temp_stack.pop())\n",
    "\n",
    "stack = [3, 1, 4, 2]\n",
    "sort_stack(stack)\n",
    "print(stack) \n"
   ]
  },
  {
   "cell_type": "code",
   "execution_count": 4,
   "id": "609f184e",
   "metadata": {},
   "outputs": [
    {
     "name": "stdout",
     "output_type": "stream",
     "text": [
      "1\n"
     ]
    }
   ],
   "source": [
    "#3.Implement a Stack for Queue Operations\n",
    "class QueueUsingStacks:\n",
    "    def __init__(self):\n",
    "        self.stack1 = []\n",
    "        self.stack2 = []\n",
    "\n",
    "    def enqueue(self, x):\n",
    "        self.stack1.append(x)\n",
    "\n",
    "    def dequeue(self):\n",
    "        if not self.stack2:\n",
    "            while self.stack1:\n",
    "                self.stack2.append(self.stack1.pop())\n",
    "        return self.stack2.pop() if self.stack2 else None\n",
    "\n",
    "q = QueueUsingStacks()\n",
    "q.enqueue(1)\n",
    "q.enqueue(2)\n",
    "print(q.dequeue())  \n"
   ]
  },
  {
   "cell_type": "code",
   "execution_count": 5,
   "id": "f56782f2",
   "metadata": {},
   "outputs": [],
   "source": [
    "#4.Undo/Redo Operation with Stack\n",
    "class UndoRedo:\n",
    "    def __init__(self):\n",
    "        self.undo_stack = []\n",
    "        self.redo_stack = []\n",
    "\n",
    "    def perform_action(self, action):\n",
    "        self.undo_stack.append(action)\n",
    "        self.redo_stack.clear()\n",
    "\n",
    "    def undo(self):\n",
    "        if self.undo_stack:\n",
    "            self.redo_stack.append(self.undo_stack.pop())\n",
    "\n",
    "    def redo(self):\n",
    "        if self.redo_stack:\n",
    "            self.undo_stack.append(self.redo_stack.pop())\n",
    "\n",
    "actions = UndoRedo()\n",
    "actions.perform_action(\"Type A\")\n",
    "actions.perform_action(\"Type B\")\n",
    "actions.undo()\n",
    "actions.redo()\n"
   ]
  },
  {
   "cell_type": "code",
   "execution_count": 6,
   "id": "83781d53",
   "metadata": {},
   "outputs": [
    {
     "name": "stdout",
     "output_type": "stream",
     "text": [
      "2\n"
     ]
    }
   ],
   "source": [
    "#5.Implement a Stack that Supports Getting the Middle Element\n",
    "class StackWithMiddle:\n",
    "    def __init__(self):\n",
    "        self.stack = []\n",
    "\n",
    "    def push(self, x):\n",
    "        self.stack.append(x)\n",
    "\n",
    "    def pop(self):\n",
    "        return self.stack.pop() if self.stack else None\n",
    "\n",
    "    def get_middle(self):\n",
    "        if not self.stack:\n",
    "            return None\n",
    "        mid = len(self.stack) // 2\n",
    "        return self.stack[mid]\n",
    "\n",
    "s = StackWithMiddle()\n",
    "s.push(1)\n",
    "s.push(2)\n",
    "s.push(3)\n",
    "print(s.get_middle())  \n",
    "\n"
   ]
  },
  {
   "cell_type": "code",
   "execution_count": 7,
   "id": "aca0a065",
   "metadata": {},
   "outputs": [
    {
     "name": "stdout",
     "output_type": "stream",
     "text": [
      "[3, 2, 1, 4]\n"
     ]
    }
   ],
   "source": [
    "#6.Remove duplicates from a stack\n",
    "def remove_duplicates(stack):\n",
    "    seen = set()\n",
    "    unique_stack = []\n",
    "    \n",
    "    while stack:\n",
    "        item = stack.pop()\n",
    "        if item not in seen:\n",
    "            seen.add(item)\n",
    "            unique_stack.append(item)\n",
    "\n",
    "    while unique_stack:\n",
    "        stack.append(unique_stack.pop())\n",
    "\n",
    "stack = [1, 2, 3, 2, 1, 4]\n",
    "remove_duplicates(stack)\n",
    "print(stack) \n"
   ]
  },
  {
   "cell_type": "code",
   "execution_count": 8,
   "id": "f7a3e9bf",
   "metadata": {},
   "outputs": [
    {
     "name": "stdout",
     "output_type": "stream",
     "text": [
      "2\n"
     ]
    }
   ],
   "source": [
    "#7.Implement stack with two queues\n",
    "from collections import deque\n",
    "\n",
    "class StackUsingQueues:\n",
    "    def __init__(self):\n",
    "        self.q1 = deque()\n",
    "        self.q2 = deque()\n",
    "\n",
    "    def push(self, x):\n",
    "        self.q1.append(x)\n",
    "\n",
    "    def pop(self):\n",
    "        while len(self.q1) > 1:\n",
    "            self.q2.append(self.q1.popleft())\n",
    "        popped = self.q1.popleft()\n",
    "        self.q1, self.q2 = self.q2, self.q1\n",
    "        return popped\n",
    "\n",
    "    def peek(self):\n",
    "        return self.q1[-1] if self.q1 else None\n",
    "\n",
    "    def is_empty(self):\n",
    "        return not self.q1\n",
    "\n",
    "stack = StackUsingQueues()\n",
    "stack.push(1)\n",
    "stack.push(2)\n",
    "print(stack.pop())  \n"
   ]
  },
  {
   "cell_type": "code",
   "execution_count": 9,
   "id": "a62b41af",
   "metadata": {},
   "outputs": [
    {
     "name": "stdout",
     "output_type": "stream",
     "text": [
      "True\n",
      "False\n"
     ]
    }
   ],
   "source": [
    "#8.Check if a stack is palindrome\n",
    "def is_palindrome_stack(stack):\n",
    "    return stack == stack[::-1]\n",
    "\n",
    "print(is_palindrome_stack([1, 2, 3, 2, 1])) \n",
    "print(is_palindrome_stack([1, 2, 3, 4]))  "
   ]
  },
  {
   "cell_type": "code",
   "execution_count": 10,
   "id": "a0b0b0f7",
   "metadata": {},
   "outputs": [
    {
     "name": "stdout",
     "output_type": "stream",
     "text": [
      "[5, 10, 10, -1, -1]\n"
     ]
    }
   ],
   "source": [
    "#9.Next greater element using stack\n",
    "def next_greater_element(arr):\n",
    "    stack = []\n",
    "    result = [-1] * len(arr)\n",
    "\n",
    "    for i in range(len(arr) - 1, -1, -1):\n",
    "        while stack and stack[-1] <= arr[i]:\n",
    "            stack.pop()\n",
    "        if stack:\n",
    "            result[i] = stack[-1]\n",
    "        stack.append(arr[i])\n",
    "\n",
    "    return result\n",
    "\n",
    "print(next_greater_element([4, 5, 2, 10, 8]))  \n"
   ]
  },
  {
   "cell_type": "code",
   "execution_count": 11,
   "id": "c7f93900",
   "metadata": {},
   "outputs": [
    {
     "name": "stdout",
     "output_type": "stream",
     "text": [
      "[4, 3, 2, 1]\n"
     ]
    }
   ],
   "source": [
    "#10.Reverse a queue using a stack\n",
    "from collections import deque\n",
    "\n",
    "def reverse_queue(q):\n",
    "    stack = []\n",
    "    while q:\n",
    "        stack.append(q.popleft())\n",
    "    while stack:\n",
    "        q.append(stack.pop())\n",
    "\n",
    "queue = deque([1, 2, 3, 4])\n",
    "reverse_queue(queue)\n",
    "print(list(queue))  \n"
   ]
  },
  {
   "cell_type": "code",
   "execution_count": 12,
   "id": "cb3fd15b",
   "metadata": {},
   "outputs": [
    {
     "name": "stdout",
     "output_type": "stream",
     "text": [
      "[5, 8]\n"
     ]
    }
   ],
   "source": [
    "#11.Remove all elements less than x\n",
    "def remove_less_than_x(stack, x):\n",
    "    new_stack = []\n",
    "    while stack:\n",
    "        value = stack.pop()\n",
    "        if value >= x:\n",
    "            new_stack.append(value)\n",
    "    \n",
    "    while new_stack:\n",
    "        stack.append(new_stack.pop())\n",
    "\n",
    "stack = [1, 3, 5, 2, 8]\n",
    "remove_less_than_x(stack, 4)\n",
    "print(stack) \n"
   ]
  },
  {
   "cell_type": "code",
   "execution_count": 13,
   "id": "e0d95708",
   "metadata": {},
   "outputs": [
    {
     "name": "stdout",
     "output_type": "stream",
     "text": [
      "0\n",
      "2\n",
      "-1\n"
     ]
    }
   ],
   "source": [
    "#12.Parenthesis positining error\n",
    "def find_mismatch(s):\n",
    "    stack = []\n",
    "    for i, ch in enumerate(s):\n",
    "        if ch == '(':\n",
    "            stack.append(i)\n",
    "        elif ch == ')':\n",
    "            if stack:\n",
    "                stack.pop()\n",
    "            else:\n",
    "                return i  \n",
    "    return stack[0] if stack else -1  \n",
    "\n",
    "print(find_mismatch(\"((())\"))  \n",
    "print(find_mismatch(\"())\"))    \n",
    "print(find_mismatch(\"(())\"))   \n"
   ]
  },
  {
   "cell_type": "code",
   "execution_count": 14,
   "id": "bd182b9a",
   "metadata": {},
   "outputs": [
    {
     "name": "stdout",
     "output_type": "stream",
     "text": [
      "[(2, 4), (0, 6), (8, 10)]\n"
     ]
    }
   ],
   "source": [
    "#13.Parenthesis using a long string\n",
    "def balanced_positions(s):\n",
    "    stack = []\n",
    "    valid_ranges = []\n",
    "    \n",
    "    for i, ch in enumerate(s):\n",
    "        if ch == '(':\n",
    "            stack.append(i)\n",
    "        elif ch == ')':\n",
    "            if stack:\n",
    "                start = stack.pop()\n",
    "                valid_ranges.append((start, i))\n",
    "    \n",
    "    return valid_ranges\n",
    "\n",
    "print(balanced_positions(\"(a(b)c)d(e)\"))  \n",
    "\n"
   ]
  },
  {
   "cell_type": "code",
   "execution_count": 15,
   "id": "3dda2aa4",
   "metadata": {},
   "outputs": [
    {
     "name": "stdout",
     "output_type": "stream",
     "text": [
      "1\n",
      "1\n",
      "2\n"
     ]
    }
   ],
   "source": [
    "#14.Minimum number of parenthesis to add\n",
    "def min_add_to_make_valid(s):\n",
    "    left_needed = right_needed = 0\n",
    "    \n",
    "    for ch in s:\n",
    "        if ch == '(':\n",
    "            right_needed += 1\n",
    "        elif ch == ')':\n",
    "            if right_needed > 0:\n",
    "                right_needed -= 1\n",
    "            else:\n",
    "                left_needed += 1\n",
    "    \n",
    "    return left_needed + right_needed\n",
    "\n",
    "print(min_add_to_make_valid(\"((())\"))  \n",
    "print(min_add_to_make_valid(\"())\"))    \n",
    "print(min_add_to_make_valid(\"(()))(\")) \n"
   ]
  },
  {
   "cell_type": "code",
   "execution_count": 16,
   "id": "134eabb4",
   "metadata": {},
   "outputs": [
    {
     "name": "stdout",
     "output_type": "stream",
     "text": [
      "2\n",
      "4\n",
      "2\n"
     ]
    }
   ],
   "source": [
    "#15.Longest valid parenthesis needed\n",
    "def longest_valid_parentheses(s):\n",
    "    stack = [-1]  \n",
    "    max_length = 0\n",
    "\n",
    "    for i, ch in enumerate(s):\n",
    "        if ch == '(':\n",
    "            stack.append(i)\n",
    "        else:\n",
    "            stack.pop()\n",
    "            if stack:\n",
    "                max_length = max(max_length, i - stack[-1])\n",
    "            else:\n",
    "                stack.append(i)\n",
    "    \n",
    "    return max_length\n",
    "\n",
    "print(longest_valid_parentheses(\"(()\"))     \n",
    "print(longest_valid_parentheses(\")()())\"))  \n",
    "print(longest_valid_parentheses(\"()(()\"))   \n"
   ]
  },
  {
   "cell_type": "code",
   "execution_count": 17,
   "id": "985acc47",
   "metadata": {},
   "outputs": [
    {
     "name": "stdout",
     "output_type": "stream",
     "text": [
      "((3 + 4) * 5)\n"
     ]
    }
   ],
   "source": [
    "#16.Convert infix to postfix\n",
    "def postfix_to_infix(expression):\n",
    "    stack = []\n",
    "    \n",
    "    for ch in expression.split():\n",
    "        if ch.isalnum():  \n",
    "            stack.append(ch)\n",
    "        else:  \n",
    "            b = stack.pop()\n",
    "            a = stack.pop()\n",
    "            stack.append(f\"({a} {ch} {b})\")\n",
    "    \n",
    "    return stack[0]\n",
    "\n",
    "print(postfix_to_infix(\"3 4 + 5 *\")) \n"
   ]
  },
  {
   "cell_type": "code",
   "execution_count": 18,
   "id": "aba3be09",
   "metadata": {},
   "outputs": [
    {
     "name": "stdout",
     "output_type": "stream",
     "text": [
      "* + 3 4 5\n"
     ]
    }
   ],
   "source": [
    "#17.Convert postfix to prefix\n",
    "def postfix_to_prefix(expression):\n",
    "    stack = []\n",
    "    \n",
    "    for ch in expression.split():\n",
    "        if ch.isalnum():  \n",
    "            \n",
    "            stack.append(ch)\n",
    "        else:  \n",
    "            b = stack.pop()\n",
    "            a = stack.pop()\n",
    "            stack.append(f\"{ch} {a} {b}\")\n",
    "    \n",
    "    return stack[0]\n",
    "\n",
    "print(postfix_to_prefix(\"3 4 + 5 *\")) \n"
   ]
  },
  {
   "cell_type": "code",
   "execution_count": 19,
   "id": "e6e53819",
   "metadata": {},
   "outputs": [
    {
     "name": "stdout",
     "output_type": "stream",
     "text": [
      "3 4 + 5 *\n"
     ]
    }
   ],
   "source": [
    "#18.Convert prefix to postfix\n",
    "def prefix_to_postfix(expression):\n",
    "    stack = []\n",
    "    \n",
    "    for ch in reversed(expression.split()):\n",
    "        if ch.isalnum():  \n",
    "    \n",
    "            stack.append(ch)\n",
    "        else:  \n",
    "            a = stack.pop()\n",
    "            b = stack.pop()\n",
    "            stack.append(f\"{a} {b} {ch}\")\n",
    "    \n",
    "    return stack[0]\n",
    "\n",
    "print(prefix_to_postfix(\"* + 3 4 5\")) "
   ]
  },
  {
   "cell_type": "code",
   "execution_count": 20,
   "id": "f2b2a8c1",
   "metadata": {},
   "outputs": [
    {
     "name": "stdout",
     "output_type": "stream",
     "text": [
      "10\n",
      "20\n"
     ]
    }
   ],
   "source": [
    "#19.Implement multiple stacks using a single linked list\n",
    "class MultiStack:\n",
    "    def __init__(self, num_stacks, stack_size):\n",
    "        self.num_stacks = num_stacks\n",
    "        self.stack_size = stack_size\n",
    "        self.array = [None] * (num_stacks * stack_size)\n",
    "        self.tops = [-1] * num_stacks \n",
    "    def push(self, stack_num, value):\n",
    "        if self.tops[stack_num] < self.stack_size - 1:\n",
    "            self.tops[stack_num] += 1\n",
    "            index = stack_num * self.stack_size + self.tops[stack_num]\n",
    "            self.array[index] = value\n",
    "        else:\n",
    "            print(\"Stack Overflow!\")\n",
    "\n",
    "    def pop(self, stack_num):\n",
    "        if self.tops[stack_num] >= 0:\n",
    "            index = stack_num * self.stack_size + self.tops[stack_num]\n",
    "            value = self.array[index]\n",
    "            self.array[index] = None\n",
    "            self.tops[stack_num] -= 1\n",
    "            return value\n",
    "        else:\n",
    "            print(\"Stack Underflow!\")\n",
    "\n",
    "multi_stack = MultiStack(2, 5)  \n",
    "multi_stack.push(0, 10)\n",
    "multi_stack.push(1, 20)\n",
    "print(multi_stack.pop(0))  \n",
    "print(multi_stack.pop(1)) "
   ]
  },
  {
   "cell_type": "code",
   "execution_count": null,
   "id": "3822c08e",
   "metadata": {},
   "outputs": [],
   "source": []
  },
  {
   "cell_type": "code",
   "execution_count": null,
   "id": "56108db2",
   "metadata": {},
   "outputs": [],
   "source": []
  }
 ],
 "metadata": {
  "kernelspec": {
   "display_name": "Python 3 (ipykernel)",
   "language": "python",
   "name": "python3"
  },
  "language_info": {
   "codemirror_mode": {
    "name": "ipython",
    "version": 3
   },
   "file_extension": ".py",
   "mimetype": "text/x-python",
   "name": "python",
   "nbconvert_exporter": "python",
   "pygments_lexer": "ipython3",
   "version": "3.11.5"
  }
 },
 "nbformat": 4,
 "nbformat_minor": 5
}
