{
 "cells": [
  {
   "cell_type": "code",
   "execution_count": 1,
   "id": "de6e5923",
   "metadata": {},
   "outputs": [],
   "source": [
    "#1.Queues using two lists\n",
    "class QueueUsingStacks:\n",
    "    def __init__(self):\n",
    "        self.stack1 = []\n",
    "        self.stack2 = []\n",
    "\n",
    "    def enqueue(self, x):\n",
    "        self.stack1.append(x)\n",
    "\n",
    "    def dequeue(self):\n",
    "        if not self.stack2:\n",
    "            while self.stack1:\n",
    "                self.stack2.append(self.stack1.pop())\n",
    "        return self.stack2.pop() if self.stack2 else None\n",
    "\n",
    "    def peek(self):\n",
    "        if not self.stack2:\n",
    "            while self.stack1:\n",
    "                self.stack2.append(self.stack1.pop())\n",
    "        return self.stack2[-1] if self.stack2 else None\n",
    "\n",
    "    def is_empty(self):\n",
    "        return not self.stack1 and not self.stack2\n"
   ]
  },
  {
   "cell_type": "code",
   "execution_count": 2,
   "id": "25078598",
   "metadata": {},
   "outputs": [
    {
     "name": "stdout",
     "output_type": "stream",
     "text": [
      "[4, 3, 2, 1]\n"
     ]
    }
   ],
   "source": [
    "#2. Reversing a queue using recursion\n",
    "from collections import deque\n",
    "\n",
    "def reverse_queue(q):\n",
    "    if not q:\n",
    "        return\n",
    "    val = q.popleft()\n",
    "    reverse_queue(q)\n",
    "    q.append(val)\n",
    "\n",
    "\n",
    "q = deque([1, 2, 3, 4])\n",
    "reverse_queue(q)\n",
    "print(list(q)) \n"
   ]
  },
  {
   "cell_type": "code",
   "execution_count": 3,
   "id": "cfc6793d",
   "metadata": {},
   "outputs": [],
   "source": [
    "#3Queue supporting Max\n",
    "from collections import deque\n",
    "\n",
    "class MaxQueue:\n",
    "    def __init__(self):\n",
    "        self.queue = deque()\n",
    "        self.max_queue = deque()\n",
    "\n",
    "    def enqueue(self, x):\n",
    "        self.queue.append(x)\n",
    "        while self.max_queue and self.max_queue[-1] < x:\n",
    "            self.max_queue.pop()\n",
    "        self.max_queue.append(x)\n",
    "\n",
    "    def dequeue(self):\n",
    "        if self.queue:\n",
    "            val = self.queue.popleft()\n",
    "            if val == self.max_queue[0]:\n",
    "                self.max_queue.popleft()\n",
    "            return val\n",
    "        return None\n",
    "\n",
    "    def max(self):\n",
    "        return self.max_queue[0] if self.max_queue else None\n"
   ]
  },
  {
   "cell_type": "code",
   "execution_count": 4,
   "id": "98e16248",
   "metadata": {},
   "outputs": [
    {
     "name": "stdout",
     "output_type": "stream",
     "text": [
      "[1, 2, 3, 4, 5, 6]\n"
     ]
    }
   ],
   "source": [
    "#4.Merge two queues\n",
    "from collections import deque\n",
    "\n",
    "def merge_queues(q1, q2):\n",
    "    result = deque()\n",
    "    while q1 or q2:\n",
    "        if q1:\n",
    "            result.append(q1.popleft())\n",
    "        if q2:\n",
    "            result.append(q2.popleft())\n",
    "    return result\n",
    "\n",
    "\n",
    "q1 = deque([1, 3, 5])\n",
    "q2 = deque([2, 4, 6])\n",
    "print(list(merge_queues(q1, q2))) \n"
   ]
  },
  {
   "cell_type": "code",
   "execution_count": 5,
   "id": "4ebb958d",
   "metadata": {},
   "outputs": [],
   "source": [
    "#5.Queue with count of specific element\n",
    "from collections import deque\n",
    "\n",
    "class CountQueue:\n",
    "    def __init__(self):\n",
    "        self.queue = deque()\n",
    "\n",
    "    def enqueue(self, x):\n",
    "        self.queue.append(x)\n",
    "\n",
    "    def count(self, x):\n",
    "        return self.queue.count(x)\n"
   ]
  },
  {
   "cell_type": "code",
   "execution_count": 6,
   "id": "5bcbdf99",
   "metadata": {},
   "outputs": [
    {
     "name": "stdout",
     "output_type": "stream",
     "text": [
      "World Hello\n"
     ]
    }
   ],
   "source": [
    "#6Reverse words in a sentences using queue\n",
    "from collections import deque\n",
    "\n",
    "def reverse_sentence(sentence):\n",
    "    words = sentence.split()\n",
    "    q = deque(words)\n",
    "    reversed_words = []\n",
    "    while q:\n",
    "        reversed_words.insert(0, q.popleft())\n",
    "    return ' '.join(reversed_words)\n",
    "\n",
    "\n",
    "print(reverse_sentence(\"Hello World\"))  \n"
   ]
  },
  {
   "cell_type": "code",
   "execution_count": 7,
   "id": "bd66bfd4",
   "metadata": {},
   "outputs": [],
   "source": [
    "#7.Queue that supports counts()\n",
    "from collections import deque\n",
    "\n",
    "class ContainsQueue:\n",
    "    def __init__(self):\n",
    "        self.queue = deque()\n",
    "\n",
    "    def enqueue(self, x):\n",
    "        self.queue.append(x)\n",
    "\n",
    "    def dequeue(self):\n",
    "        return self.queue.popleft() if self.queue else None\n",
    "\n",
    "    def contains(self, x):\n",
    "        return x in self.queue\n"
   ]
  },
  {
   "cell_type": "code",
   "execution_count": null,
   "id": "22b4c8fd",
   "metadata": {},
   "outputs": [],
   "source": []
  }
 ],
 "metadata": {
  "kernelspec": {
   "display_name": "Python 3 (ipykernel)",
   "language": "python",
   "name": "python3"
  },
  "language_info": {
   "codemirror_mode": {
    "name": "ipython",
    "version": 3
   },
   "file_extension": ".py",
   "mimetype": "text/x-python",
   "name": "python",
   "nbconvert_exporter": "python",
   "pygments_lexer": "ipython3",
   "version": "3.11.5"
  }
 },
 "nbformat": 4,
 "nbformat_minor": 5
}
